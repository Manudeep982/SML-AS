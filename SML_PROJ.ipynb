{
  "nbformat": 4,
  "nbformat_minor": 0,
  "metadata": {
    "colab": {
      "provenance": [],
      "authorship_tag": "ABX9TyMNOgG4/ekxPZrXcduEYMba",
      "include_colab_link": true
    },
    "kernelspec": {
      "name": "python3",
      "display_name": "Python 3"
    },
    "language_info": {
      "name": "python"
    }
  },
  "cells": [
    {
      "cell_type": "markdown",
      "metadata": {
        "id": "view-in-github",
        "colab_type": "text"
      },
      "source": [
        "<a href=\"https://colab.research.google.com/github/Manudeep982/SML-AS/blob/main/SML_PROJ.ipynb\" target=\"_parent\"><img src=\"https://colab.research.google.com/assets/colab-badge.svg\" alt=\"Open In Colab\"/></a>"
      ]
    },
    {
      "cell_type": "code",
      "execution_count": 1,
      "metadata": {
        "colab": {
          "base_uri": "https://localhost:8080/"
        },
        "id": "9waSpCsQsL5L",
        "outputId": "521c069f-13ef-43b8-8921-7c0b059792a3"
      },
      "outputs": [
        {
          "output_type": "stream",
          "name": "stdout",
          "text": [
            "      battery_power  blue  clock_speed  dual_sim  fc  four_g  int_memory  \\\n",
            "0               842     0          2.2         0   1       0           7   \n",
            "1              1021     1          0.5         1   0       1          53   \n",
            "2               563     1          0.5         1   2       1          41   \n",
            "3               615     1          2.5         0   0       0          10   \n",
            "4              1821     1          1.2         0  13       1          44   \n",
            "...             ...   ...          ...       ...  ..     ...         ...   \n",
            "1995            794     1          0.5         1   0       1           2   \n",
            "1996           1965     1          2.6         1   0       0          39   \n",
            "1997           1911     0          0.9         1   1       1          36   \n",
            "1998           1512     0          0.9         0   4       1          46   \n",
            "1999            510     1          2.0         1   5       1          45   \n",
            "\n",
            "      m_dep  mobile_wt  n_cores  ...  px_height  px_width   ram  sc_h  sc_w  \\\n",
            "0       0.6        188        2  ...         20       756  2549     9     7   \n",
            "1       0.7        136        3  ...        905      1988  2631    17     3   \n",
            "2       0.9        145        5  ...       1263      1716  2603    11     2   \n",
            "3       0.8        131        6  ...       1216      1786  2769    16     8   \n",
            "4       0.6        141        2  ...       1208      1212  1411     8     2   \n",
            "...     ...        ...      ...  ...        ...       ...   ...   ...   ...   \n",
            "1995    0.8        106        6  ...       1222      1890   668    13     4   \n",
            "1996    0.2        187        4  ...        915      1965  2032    11    10   \n",
            "1997    0.7        108        8  ...        868      1632  3057     9     1   \n",
            "1998    0.1        145        5  ...        336       670   869    18    10   \n",
            "1999    0.9        168        6  ...        483       754  3919    19     4   \n",
            "\n",
            "      talk_time  three_g  touch_screen  wifi  price_range  \n",
            "0            19        0             0     1            1  \n",
            "1             7        1             1     0            2  \n",
            "2             9        1             1     0            2  \n",
            "3            11        1             0     0            2  \n",
            "4            15        1             1     0            1  \n",
            "...         ...      ...           ...   ...          ...  \n",
            "1995         19        1             1     0            0  \n",
            "1996         16        1             1     1            2  \n",
            "1997          5        1             1     0            3  \n",
            "1998         19        1             1     1            0  \n",
            "1999          2        1             1     1            3  \n",
            "\n",
            "[2000 rows x 21 columns]\n"
          ]
        }
      ],
      "source": [
        "import pandas as pd\n",
        "import numpy as np\n",
        "d=pd.read_csv('/content/train.csv')\n",
        "print(d)"
      ]
    },
    {
      "cell_type": "code",
      "source": [
        "y=d['price_range']\n",
        "print(y)"
      ],
      "metadata": {
        "colab": {
          "base_uri": "https://localhost:8080/"
        },
        "id": "rkZ20xQatEkK",
        "outputId": "02f96faa-e51a-4a51-c96b-80ab3aed5c78"
      },
      "execution_count": 2,
      "outputs": [
        {
          "output_type": "stream",
          "name": "stdout",
          "text": [
            "0       1\n",
            "1       2\n",
            "2       2\n",
            "3       2\n",
            "4       1\n",
            "       ..\n",
            "1995    0\n",
            "1996    2\n",
            "1997    3\n",
            "1998    0\n",
            "1999    3\n",
            "Name: price_range, Length: 2000, dtype: int64\n"
          ]
        }
      ]
    },
    {
      "cell_type": "code",
      "source": [
        "x=d.drop('price_range',axis=1)\n",
        "print(x)"
      ],
      "metadata": {
        "colab": {
          "base_uri": "https://localhost:8080/"
        },
        "id": "78nkA-hHtgjj",
        "outputId": "5eb35c7e-6a9f-43fc-e42d-e045cf992cd3"
      },
      "execution_count": 3,
      "outputs": [
        {
          "output_type": "stream",
          "name": "stdout",
          "text": [
            "      battery_power  blue  clock_speed  dual_sim  fc  four_g  int_memory  \\\n",
            "0               842     0          2.2         0   1       0           7   \n",
            "1              1021     1          0.5         1   0       1          53   \n",
            "2               563     1          0.5         1   2       1          41   \n",
            "3               615     1          2.5         0   0       0          10   \n",
            "4              1821     1          1.2         0  13       1          44   \n",
            "...             ...   ...          ...       ...  ..     ...         ...   \n",
            "1995            794     1          0.5         1   0       1           2   \n",
            "1996           1965     1          2.6         1   0       0          39   \n",
            "1997           1911     0          0.9         1   1       1          36   \n",
            "1998           1512     0          0.9         0   4       1          46   \n",
            "1999            510     1          2.0         1   5       1          45   \n",
            "\n",
            "      m_dep  mobile_wt  n_cores  pc  px_height  px_width   ram  sc_h  sc_w  \\\n",
            "0       0.6        188        2   2         20       756  2549     9     7   \n",
            "1       0.7        136        3   6        905      1988  2631    17     3   \n",
            "2       0.9        145        5   6       1263      1716  2603    11     2   \n",
            "3       0.8        131        6   9       1216      1786  2769    16     8   \n",
            "4       0.6        141        2  14       1208      1212  1411     8     2   \n",
            "...     ...        ...      ...  ..        ...       ...   ...   ...   ...   \n",
            "1995    0.8        106        6  14       1222      1890   668    13     4   \n",
            "1996    0.2        187        4   3        915      1965  2032    11    10   \n",
            "1997    0.7        108        8   3        868      1632  3057     9     1   \n",
            "1998    0.1        145        5   5        336       670   869    18    10   \n",
            "1999    0.9        168        6  16        483       754  3919    19     4   \n",
            "\n",
            "      talk_time  three_g  touch_screen  wifi  \n",
            "0            19        0             0     1  \n",
            "1             7        1             1     0  \n",
            "2             9        1             1     0  \n",
            "3            11        1             0     0  \n",
            "4            15        1             1     0  \n",
            "...         ...      ...           ...   ...  \n",
            "1995         19        1             1     0  \n",
            "1996         16        1             1     1  \n",
            "1997          5        1             1     0  \n",
            "1998         19        1             1     1  \n",
            "1999          2        1             1     1  \n",
            "\n",
            "[2000 rows x 20 columns]\n"
          ]
        }
      ]
    },
    {
      "cell_type": "code",
      "source": [
        "x.isnull().sum()\n",
        "x.replace([np.inf, -np.inf], np.nan, inplace=True)\n",
        "x.fillna(0, inplace=True)"
      ],
      "metadata": {
        "id": "v5PX2CBQtj3i"
      },
      "execution_count": 4,
      "outputs": []
    },
    {
      "cell_type": "code",
      "source": [
        "from sklearn.model_selection import train_test_split\n",
        "x_train,x_test,y_train,y_test=train_test_split(x,y,test_size=0.2)"
      ],
      "metadata": {
        "id": "_y19rIcPuGuy"
      },
      "execution_count": 5,
      "outputs": []
    },
    {
      "cell_type": "code",
      "source": [
        "from sklearn.linear_model import Perceptron\n",
        "from sklearn.metrics import accuracy_score\n",
        "model=Perceptron()\n",
        "model.fit(x_train,y_train)\n",
        "y_pred=model.predict(x_test)\n",
        "accuracy=accuracy_score(y_test,y_pred)\n",
        "print(\"Accuracy:\",accuracy)\n"
      ],
      "metadata": {
        "colab": {
          "base_uri": "https://localhost:8080/"
        },
        "id": "LhPtjxs3uQI5",
        "outputId": "f7cc3875-847c-40a7-d274-c4767288f82d"
      },
      "execution_count": 6,
      "outputs": [
        {
          "output_type": "stream",
          "name": "stdout",
          "text": [
            "Accuracy: 0.5225\n"
          ]
        }
      ]
    },
    {
      "cell_type": "code",
      "source": [
        "from sklearn.metrics import confusion_matrix\n",
        "cm=confusion_matrix(y_test,y_pred)\n",
        "cm"
      ],
      "metadata": {
        "colab": {
          "base_uri": "https://localhost:8080/"
        },
        "id": "LUHioPbJuena",
        "outputId": "ff666322-669b-48b5-f6f0-1f9ccc991d71"
      },
      "execution_count": 7,
      "outputs": [
        {
          "output_type": "execute_result",
          "data": {
            "text/plain": [
              "array([[82,  2,  8,  0],\n",
              "       [47,  4, 49,  4],\n",
              "       [ 5,  0, 90, 17],\n",
              "       [ 0,  0, 59, 33]])"
            ]
          },
          "metadata": {},
          "execution_count": 7
        }
      ]
    },
    {
      "cell_type": "code",
      "source": [
        "from sklearn.metrics import classification_report\n",
        "print(classification_report(y_test,y_pred))"
      ],
      "metadata": {
        "colab": {
          "base_uri": "https://localhost:8080/"
        },
        "id": "3Y_2jdJpulvJ",
        "outputId": "fedc9469-56d7-41df-9407-2e7e93c750da"
      },
      "execution_count": 8,
      "outputs": [
        {
          "output_type": "stream",
          "name": "stdout",
          "text": [
            "              precision    recall  f1-score   support\n",
            "\n",
            "           0       0.61      0.89      0.73        92\n",
            "           1       0.67      0.04      0.07       104\n",
            "           2       0.44      0.80      0.57       112\n",
            "           3       0.61      0.36      0.45        92\n",
            "\n",
            "    accuracy                           0.52       400\n",
            "   macro avg       0.58      0.52      0.45       400\n",
            "weighted avg       0.58      0.52      0.45       400\n",
            "\n"
          ]
        }
      ]
    },
    {
      "cell_type": "code",
      "source": [
        "from sklearn.svm import SVC\n",
        "from sklearn.metrics import accuracy_score\n",
        "model=SVC()\n",
        "model.fit(x_train,y_train)\n",
        "y_pred=model.predict(x_test)\n",
        "accuracy=accuracy_score(y_test,y_pred)\n",
        "print(\"Accuracy:\",accuracy)\n"
      ],
      "metadata": {
        "colab": {
          "base_uri": "https://localhost:8080/"
        },
        "id": "xT0fC5o8uqBn",
        "outputId": "5a2f1bdc-6c67-4913-a286-18f117a09bf8"
      },
      "execution_count": 9,
      "outputs": [
        {
          "output_type": "stream",
          "name": "stdout",
          "text": [
            "Accuracy: 0.9425\n"
          ]
        }
      ]
    },
    {
      "cell_type": "code",
      "source": [
        "from sklearn.metrics import confusion_matrix\n",
        "cm=confusion_matrix(y_test,y_pred)\n",
        "cm"
      ],
      "metadata": {
        "colab": {
          "base_uri": "https://localhost:8080/"
        },
        "id": "GDsyRRy6u8dk",
        "outputId": "8566339c-6d8d-47f1-e88a-957e4345e4e0"
      },
      "execution_count": 10,
      "outputs": [
        {
          "output_type": "execute_result",
          "data": {
            "text/plain": [
              "array([[ 89,   3,   0,   0],\n",
              "       [  4,  98,   2,   0],\n",
              "       [  0,   5, 102,   5],\n",
              "       [  0,   0,   4,  88]])"
            ]
          },
          "metadata": {},
          "execution_count": 10
        }
      ]
    },
    {
      "cell_type": "code",
      "source": [
        "from sklearn.metrics import classification_report\n",
        "print(classification_report(y_test,y_pred))\n"
      ],
      "metadata": {
        "colab": {
          "base_uri": "https://localhost:8080/"
        },
        "id": "kv9bShplu-73",
        "outputId": "0ba2bf08-7787-45ad-98c8-6e2e9c677853"
      },
      "execution_count": 11,
      "outputs": [
        {
          "output_type": "stream",
          "name": "stdout",
          "text": [
            "              precision    recall  f1-score   support\n",
            "\n",
            "           0       0.96      0.97      0.96        92\n",
            "           1       0.92      0.94      0.93       104\n",
            "           2       0.94      0.91      0.93       112\n",
            "           3       0.95      0.96      0.95        92\n",
            "\n",
            "    accuracy                           0.94       400\n",
            "   macro avg       0.94      0.94      0.94       400\n",
            "weighted avg       0.94      0.94      0.94       400\n",
            "\n"
          ]
        }
      ]
    },
    {
      "cell_type": "code",
      "source": [
        "from sklearn.linear_model import LogisticRegression\n",
        "from sklearn.metrics import accuracy_score\n",
        "model=LogisticRegression()\n",
        "model.fit(x_train,y_train)\n",
        "y_pred=model.predict(x_test)\n",
        "accuracy=accuracy_score(y_test,y_pred)\n",
        "print(\"Accuracy:\",accuracy)\n"
      ],
      "metadata": {
        "colab": {
          "base_uri": "https://localhost:8080/"
        },
        "id": "_AuErFlYvJ-Z",
        "outputId": "07458f12-2335-4a81-a898-4503796a54ef"
      },
      "execution_count": 12,
      "outputs": [
        {
          "output_type": "stream",
          "name": "stdout",
          "text": [
            "Accuracy: 0.5775\n"
          ]
        },
        {
          "output_type": "stream",
          "name": "stderr",
          "text": [
            "/usr/local/lib/python3.10/dist-packages/sklearn/linear_model/_logistic.py:469: ConvergenceWarning: lbfgs failed to converge (status=1):\n",
            "STOP: TOTAL NO. of ITERATIONS REACHED LIMIT.\n",
            "\n",
            "Increase the number of iterations (max_iter) or scale the data as shown in:\n",
            "    https://scikit-learn.org/stable/modules/preprocessing.html\n",
            "Please also refer to the documentation for alternative solver options:\n",
            "    https://scikit-learn.org/stable/modules/linear_model.html#logistic-regression\n",
            "  n_iter_i = _check_optimize_result(\n"
          ]
        }
      ]
    },
    {
      "cell_type": "code",
      "source": [
        "from sklearn.metrics import confusion_matrix\n",
        "cm=confusion_matrix(y_test,y_pred)\n",
        "cm"
      ],
      "metadata": {
        "colab": {
          "base_uri": "https://localhost:8080/"
        },
        "id": "GzXdYpg_vOjc",
        "outputId": "3df8db39-bc38-47e4-cbb2-ba59595bf232"
      },
      "execution_count": 13,
      "outputs": [
        {
          "output_type": "execute_result",
          "data": {
            "text/plain": [
              "array([[72, 19,  1,  0],\n",
              "       [24, 46, 26,  8],\n",
              "       [ 1, 20, 47, 44],\n",
              "       [ 0,  2, 24, 66]])"
            ]
          },
          "metadata": {},
          "execution_count": 13
        }
      ]
    },
    {
      "cell_type": "code",
      "source": [
        "from sklearn.metrics import classification_report\n",
        "print(classification_report(y_test,y_pred))"
      ],
      "metadata": {
        "colab": {
          "base_uri": "https://localhost:8080/"
        },
        "id": "4O3WKtsmvWrx",
        "outputId": "cb28bf74-83aa-48fa-fdbd-6e4a457b321f"
      },
      "execution_count": 14,
      "outputs": [
        {
          "output_type": "stream",
          "name": "stdout",
          "text": [
            "              precision    recall  f1-score   support\n",
            "\n",
            "           0       0.74      0.78      0.76        92\n",
            "           1       0.53      0.44      0.48       104\n",
            "           2       0.48      0.42      0.45       112\n",
            "           3       0.56      0.72      0.63        92\n",
            "\n",
            "    accuracy                           0.58       400\n",
            "   macro avg       0.58      0.59      0.58       400\n",
            "weighted avg       0.57      0.58      0.57       400\n",
            "\n"
          ]
        }
      ]
    },
    {
      "cell_type": "code",
      "source": [
        "from sklearn.neighbors import KNeighborsClassifier\n",
        "from sklearn.metrics import accuracy_score\n",
        "model=KNeighborsClassifier()\n",
        "model.fit(x_train,y_train)\n",
        "y_pred=model.predict(x_test)\n",
        "accuracy=accuracy_score(y_test,y_pred)\n",
        "print(\"Accuracy:\",accuracy)"
      ],
      "metadata": {
        "id": "srDVU0HXNlD8",
        "outputId": "3e74bc23-f62f-4e8e-ac82-b73ebd1dab87",
        "colab": {
          "base_uri": "https://localhost:8080/"
        }
      },
      "execution_count": 16,
      "outputs": [
        {
          "output_type": "stream",
          "name": "stdout",
          "text": [
            "Accuracy: 0.8925\n"
          ]
        }
      ]
    },
    {
      "cell_type": "code",
      "source": [
        "from sklearn.metrics import confusion_matrix\n",
        "cm=confusion_matrix(y_test,y_pred)\n",
        "cm"
      ],
      "metadata": {
        "id": "2P405oymNuL1",
        "outputId": "8b47d3a7-60b1-4bc1-acdd-fd15af86eff9",
        "colab": {
          "base_uri": "https://localhost:8080/"
        }
      },
      "execution_count": 17,
      "outputs": [
        {
          "output_type": "execute_result",
          "data": {
            "text/plain": [
              "array([[87,  5,  0,  0],\n",
              "       [ 7, 92,  5,  0],\n",
              "       [ 0, 11, 93,  8],\n",
              "       [ 0,  0,  7, 85]])"
            ]
          },
          "metadata": {},
          "execution_count": 17
        }
      ]
    },
    {
      "cell_type": "code",
      "source": [
        "from sklearn.metrics import classification_report\n",
        "print(classification_report(y_test,y_pred))"
      ],
      "metadata": {
        "id": "0Axdl36NOYLY",
        "outputId": "2bc49e93-e4ab-4183-e33b-bc73a89e5b93",
        "colab": {
          "base_uri": "https://localhost:8080/"
        }
      },
      "execution_count": 18,
      "outputs": [
        {
          "output_type": "stream",
          "name": "stdout",
          "text": [
            "              precision    recall  f1-score   support\n",
            "\n",
            "           0       0.93      0.95      0.94        92\n",
            "           1       0.85      0.88      0.87       104\n",
            "           2       0.89      0.83      0.86       112\n",
            "           3       0.91      0.92      0.92        92\n",
            "\n",
            "    accuracy                           0.89       400\n",
            "   macro avg       0.89      0.90      0.89       400\n",
            "weighted avg       0.89      0.89      0.89       400\n",
            "\n"
          ]
        }
      ]
    }
  ]
}